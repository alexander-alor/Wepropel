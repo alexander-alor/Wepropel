{
  "nbformat": 4,
  "nbformat_minor": 0,
  "metadata": {
    "colab": {
      "provenance": []
    },
    "kernelspec": {
      "name": "python3",
      "display_name": "Python 3"
    },
    "language_info": {
      "name": "python"
    }
  },
  "cells": [
    {
      "cell_type": "code",
      "execution_count": 1,
      "metadata": {
        "id": "-OdvKBLrfUck"
      },
      "outputs": [],
      "source": []
    },
    {
      "cell_type": "code",
      "source": [
        "\n",
        "#PARTE 2import pandas as pd\n",
        "#RATIO DE ATENCION SOBRE REGISTRADO POR CAMPANHA\n",
        "import pandas as pd\n",
        "\n",
        "\n",
        "# Load the dataset\n",
        "df = pd.read_csv('merged_with_latest_population.csv')\n",
        "\n",
        "# Group by Campaign Name to calculate registrations and attendances\n",
        "campaign_stats = df.groupby('Campaign Name').agg({\n",
        "    'Registered': 'sum',\n",
        "    'Attended': 'sum'\n",
        "}).reset_index()\n",
        "\n",
        "# Calculate attendance percentage\n",
        "campaign_stats['Percentage Attended'] = (campaign_stats['Attended'] / campaign_stats['Registered'].replace(0, 1) * 100).round(2)\n",
        "\n",
        "# Sort by percentage attended (descending)\n",
        "campaign_stats = campaign_stats.sort_values('Percentage Attended', ascending=False)\n",
        "\n",
        "# Generate summary table\n",
        "print(\"### Overall Summary Table of Attendance Percentages\")\n",
        "print(campaign_stats[['Campaign Name', 'Registered', 'Attended', 'Percentage Attended']].to_markdown(index=False))\n",
        "\n",
        "# Generate analysis and text-based bar chart for each campaign\n",
        "print(\"\\n### Analysis and Chart for Each Campaign\")\n",
        "for _, row in campaign_stats.iterrows():\n",
        "    campaign = row['Campaign Name']\n",
        "    registered = row['Registered']\n",
        "    attended = row['Attended']\n",
        "    percentage = row['Percentage Attended']\n",
        "\n",
        "    # Text-based bar chart (each * represents ~2%)\n",
        "    bar_length = int(percentage // 2)\n",
        "    bar = '*' * bar_length\n",
        "\n",
        "    # Analysis based on campaign performance\n",
        "    if percentage == 100:\n",
        "        analysis = (f\"This workshop achieved perfect attendance, indicating high interest. All {registered} registered \"\n",
        "                    f\"participants attended, suggesting effective promotion or relevant content. Replicate with similar hands-on themes.\")\n",
        "    elif percentage >= 80:\n",
        "        analysis = (f\"With {percentage}% attendance, this workshop shows strong engagement, likely due to its topic relevance. \"\n",
        "                    f\"The small drop-off ({registered - attended} participants) might indicate scheduling conflicts. Consider follow-up sessions.\")\n",
        "    elif percentage >= 60:\n",
        "        analysis = (f\"At {percentage}% attendance, this workshop had solid turnout, reflecting interest in its focus. \"\n",
        "                    f\"The {100 - percentage}% no-show rate could be addressed with reminders or incentives.\")\n",
        "    elif percentage >= 40:\n",
        "        analysis = (f\"This workshop had {percentage}% attendance, with significant drop-offs ({registered - attended} no-shows). \"\n",
        "                    f\"Low appeal or unclear content may be factors; tailor regionally or add interactive elements.\")\n",
        "    else:\n",
        "        analysis = (f\"With {percentage}% attendance, this event underperformed despite {registered} registrations. \"\n",
        "                    f\"Low conversion may stem from niche topic or timing; target high-population areas for better reach.\")\n",
        "\n",
        "    # Additional insights based on campaign type\n",
        "    if 'Tech' in df[df['Campaign Name'] == campaign]['Campaign categories'].iloc[0]:\n",
        "        analysis += \" Tech theme aligns with high performers; ensure beginner-friendly content.\"\n",
        "    if 'Propel event' in campaign:\n",
        "        analysis += \" As a propel event, focus on specific, targeted marketing.\"\n",
        "\n",
        "    print(f\"\\n#### {campaign} ({percentage}%)\")\n",
        "    print(analysis)\n",
        "    print(f\"Chart: {bar}\")"
      ],
      "metadata": {
        "colab": {
          "base_uri": "https://localhost:8080/"
        },
        "id": "ltXhxOkqVLzo",
        "outputId": "2802230d-4a4b-43d8-d3d8-5bd39aefffc9"
      },
      "execution_count": 2,
      "outputs": [
        {
          "output_type": "stream",
          "name": "stdout",
          "text": [
            "### Overall Summary Table of Attendance Percentages\n",
            "| Campaign Name                                        |   Registered |   Attended |   Percentage Attended |\n",
            "|:-----------------------------------------------------|-------------:|-----------:|----------------------:|\n",
            "| [Workshop] Eleva tu fundraising con ChatGPT I (2024) |           70 |         54 |                 77.14 |\n",
            "| [Workshop] Impulsa tu productividad con IA (2024)    |           80 |         60 |                 75    |\n",
            "| [Workshop] Visibiliza tu causa con IA (2024)         |           83 |         58 |                 69.88 |\n",
            "| [Propel event] Aplica a grants con confianza (2024)  |          193 |         92 |                 47.67 |\n",
            "| [Workshop] Fortalece tu historia de impacto (2024)   |          352 |        133 |                 37.78 |\n",
            "| [Workshop] Planea con OKRs (2024)                    |          254 |         95 |                 37.4  |\n",
            "| [Propel event] Lidera con un mindset digital (2024)  |          207 |         62 |                 29.95 |\n",
            "| [Workshop] Crea tu primer GPT (2024)                 |          443 |        116 |                 26.19 |\n",
            "\n",
            "### Analysis and Chart for Each Campaign\n",
            "\n",
            "#### [Workshop] Eleva tu fundraising con ChatGPT I (2024) (77.14%)\n",
            "At 77.14% attendance, this workshop had solid turnout, reflecting interest in its focus. The 22.86% no-show rate could be addressed with reminders or incentives. Tech theme aligns with high performers; ensure beginner-friendly content.\n",
            "Chart: **************************************\n",
            "\n",
            "#### [Workshop] Impulsa tu productividad con IA (2024) (75.0%)\n",
            "At 75.0% attendance, this workshop had solid turnout, reflecting interest in its focus. The 25.0% no-show rate could be addressed with reminders or incentives.\n",
            "Chart: *************************************\n",
            "\n",
            "#### [Workshop] Visibiliza tu causa con IA (2024) (69.88%)\n",
            "At 69.88% attendance, this workshop had solid turnout, reflecting interest in its focus. The 30.120000000000005% no-show rate could be addressed with reminders or incentives. Tech theme aligns with high performers; ensure beginner-friendly content.\n",
            "Chart: **********************************\n",
            "\n",
            "#### [Propel event] Aplica a grants con confianza (2024) (47.67%)\n",
            "This workshop had 47.67% attendance, with significant drop-offs (101 no-shows). Low appeal or unclear content may be factors; tailor regionally or add interactive elements. Tech theme aligns with high performers; ensure beginner-friendly content. As a propel event, focus on specific, targeted marketing.\n",
            "Chart: ***********************\n",
            "\n",
            "#### [Workshop] Fortalece tu historia de impacto (2024) (37.78%)\n",
            "With 37.78% attendance, this event underperformed despite 352 registrations. Low conversion may stem from niche topic or timing; target high-population areas for better reach. Tech theme aligns with high performers; ensure beginner-friendly content.\n",
            "Chart: ******************\n",
            "\n",
            "#### [Workshop] Planea con OKRs (2024) (37.4%)\n",
            "With 37.4% attendance, this event underperformed despite 254 registrations. Low conversion may stem from niche topic or timing; target high-population areas for better reach.\n",
            "Chart: ******************\n",
            "\n",
            "#### [Propel event] Lidera con un mindset digital (2024) (29.95%)\n",
            "With 29.95% attendance, this event underperformed despite 207 registrations. Low conversion may stem from niche topic or timing; target high-population areas for better reach. Tech theme aligns with high performers; ensure beginner-friendly content. As a propel event, focus on specific, targeted marketing.\n",
            "Chart: **************\n",
            "\n",
            "#### [Workshop] Crea tu primer GPT (2024) (26.19%)\n",
            "With 26.19% attendance, this event underperformed despite 443 registrations. Low conversion may stem from niche topic or timing; target high-population areas for better reach. Tech theme aligns with high performers; ensure beginner-friendly content.\n",
            "Chart: *************\n"
          ]
        }
      ]
    },
    {
      "cell_type": "code",
      "source": [],
      "metadata": {
        "id": "hsCEgp-Yfj2C"
      },
      "execution_count": 2,
      "outputs": []
    },
    {
      "cell_type": "code",
      "source": [
        "#TIEMPO DE CAMPNHA VS # DE CAMPANHAS(AGREGAR NUEVA COLUMNA(prom(ini.campanha,fin.campanha)\n",
        "import pandas as pd\n",
        "import matplotlib.pyplot as plt\n",
        "import seaborn as sns\n",
        "\n",
        "# Load the dataset\n",
        "df = pd.read_csv('merged_with_latest_population.csv')\n",
        "\n",
        "# Convert date columns to datetime\n",
        "df['Start Date'] = pd.to_datetime(df['Start Date'])\n",
        "df['End Date'] = pd.to_datetime(df['End Date'])\n",
        "\n",
        "# Calculate duration in days (inclusive of start and end dates)\n",
        "df['Duration'] = (df['End Date'] - df['Start Date']).dt.days + 1\n",
        "\n",
        "# Count rows per duration\n",
        "duration_counts = df['Duration'].value_counts().reset_index()\n",
        "duration_counts.columns = ['Duration (Days)', 'Number of Rows']\n",
        "duration_counts = duration_counts.sort_values('Duration (Days)')\n",
        "\n",
        "# Print table\n",
        "print(\"### Table: Campaign Durations vs. Number of Rows\")\n",
        "print(duration_counts.to_markdown(index=False))\n",
        "\n",
        "# Create bar chart\n",
        "plt.figure(figsize=(10, 6))\n",
        "sns.barplot(data=duration_counts, x='Duration (Days)', y='Number of Rows', color='#1f77b4')\n",
        "plt.title('Number of Campaign Registrations by Duration (Days)')\n",
        "plt.xlabel('Duration (Days)')\n",
        "plt.ylabel('Number of Rows')\n",
        "plt.xticks(rotation=45)\n",
        "plt.tight_layout()\n",
        "plt.savefig('duration_vs_rows.png')\n",
        "plt.close()\n",
        "\n",
        "print(\"\\nChart saved as 'duration_vs_rows.png'\")"
      ],
      "metadata": {
        "id": "Wf0gyO4YTle0",
        "colab": {
          "base_uri": "https://localhost:8080/"
        },
        "outputId": "92363835-c24a-472a-809e-826f50a035e3"
      },
      "execution_count": 3,
      "outputs": [
        {
          "output_type": "stream",
          "name": "stdout",
          "text": [
            "### Table: Campaign Durations vs. Number of Rows\n",
            "|   Duration (Days) |   Number of Rows |\n",
            "|------------------:|-----------------:|\n",
            "|                 1 |              233 |\n",
            "|                16 |              607 |\n",
            "|                17 |              207 |\n",
            "|                23 |              352 |\n",
            "|                30 |              443 |\n",
            "\n",
            "Chart saved as 'duration_vs_rows.png'\n"
          ]
        }
      ]
    },
    {
      "cell_type": "code",
      "source": [],
      "metadata": {
        "id": "EoW_rdqAfmfg"
      },
      "execution_count": 3,
      "outputs": []
    },
    {
      "cell_type": "code",
      "source": [
        "#Ratio de atención vs # de campnahas\n",
        "import pandas as pd\n",
        "import matplotlib.pyplot as plt\n",
        "import seaborn as sns\n",
        "\n",
        "# Load the dataset\n",
        "df = pd.read_csv('merged_with_latest_population.csv')\n",
        "\n",
        "# Count rows per Attended status\n",
        "attended_counts = df['Attended'].value_counts().reset_index()\n",
        "attended_counts.columns = ['Attended Status', 'Number of Rows']\n",
        "attended_counts['Attended Status'] = attended_counts['Attended Status'].map({1: 'Attended', 0: 'Not Attended'})\n",
        "\n",
        "# Print table\n",
        "print(\"### Table: Attended Status vs. Number of Rows\")\n",
        "print(attended_counts.to_markdown(index=False))\n",
        "\n",
        "# Create bar chart\n",
        "plt.figure(figsize=(8, 6))\n",
        "sns.barplot(data=attended_counts, x='Attended Status', y='Number of Rows', color='#1f77b4')\n",
        "plt.title('Number of Campaign Registrations by Attended Status')\n",
        "plt.xlabel('Attended Status')\n",
        "plt.ylabel('Number of Rows')\n",
        "plt.tight_layout()\n",
        "plt.savefig('attended_vs_rows.png')\n",
        "plt.close()\n",
        "\n",
        "print(\"\\nChart saved as 'attended_vs_rows.png'\")\n"
      ],
      "metadata": {
        "id": "QgudDyaOUyRo",
        "colab": {
          "base_uri": "https://localhost:8080/"
        },
        "outputId": "a444cd60-ae42-4ca1-9f56-915571cc8985"
      },
      "execution_count": 4,
      "outputs": [
        {
          "output_type": "stream",
          "name": "stdout",
          "text": [
            "### Table: Attended Status vs. Number of Rows\n",
            "| Attended Status   |   Number of Rows |\n",
            "|:------------------|-----------------:|\n",
            "| Not Attended      |             1172 |\n",
            "| Attended          |              670 |\n",
            "\n",
            "Chart saved as 'attended_vs_rows.png'\n"
          ]
        }
      ]
    }
  ]
}